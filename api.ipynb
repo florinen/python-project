{
 "cells": [
  {
   "cell_type": "code",
   "execution_count": 1,
   "metadata": {},
   "outputs": [
    {
     "name": "stdout",
     "output_type": "stream",
     "text": [
      "[{'UUID': '3c9295db-8d03-471a-89bb-8c3072c8b612', 'email': 'alibek@kalyk', 'firstname': 'alybek', 'lastname': 'kalyk', 'password': 'sha256$X9RqyHbt$c37f830968131882c7e4c62609edfe5282', 'status': '0', 'username': 'alibek'}, {'UUID': '547b89b9-7958-4ab1-a2b4-e4060eb086b9', 'email': 'pikachu@mail.com', 'firstname': 'Noor', 'lastname': 'Erkin', 'password': 'sha256$vFbrBksf$f78e945575a8bfaad723d7cd8a5a1be988', 'status': '0', 'username': 'noorerkin'}]\n"
     ]
    }
   ],
   "source": [
    "#!python3.6 -m pip install requests #if you get error running below code\n",
    "\n",
    "import requests\n",
    "\n",
    "#response = requests.get('https://api.academy.fuchicorp.com/').json() #import the respons into json format\n",
    "#print(response)                    #you can also use '.json()' inside brackets ex: \"print(response.json())\"\n",
    "\n",
    "response = requests.get('https://api.academy.fuchicorp.com/v0.1/example/users')\n",
    "if response.status_code == 200:     #if the response is 200 then print the result\n",
    "    print(response.json())\n",
    "else:\n",
    "    print('Something went worng!!!')"
   ]
  },
  {
   "cell_type": "code",
   "execution_count": 2,
   "metadata": {},
   "outputs": [
    {
     "name": "stdout",
     "output_type": "stream",
     "text": [
      "{'username': 'fnenciu', 'password': 'redhat', 'firstname': 'Florin', 'lastname': 'Nenciu', 'email': 'nenfl24@gmail.com'}\n"
     ]
    }
   ],
   "source": [
    "user = {}\n",
    "user['username'] = 'fnenciu'\n",
    "user['password'] = 'redhat'\n",
    "user['firstname'] = 'Florin'\n",
    "user['lastname'] = 'Nenciu'\n",
    "user['email'] = 'nenfl24@gmail.com'\n",
    "print(user)"
   ]
  },
  {
   "cell_type": "code",
   "execution_count": null,
   "metadata": {},
   "outputs": [],
   "source": [
    "response = requests.post('http://api.academy.fuchicorp.com/v0.1/create_example/user', json=user)  #add user to db\n",
    "print(response.json())"
   ]
  },
  {
   "cell_type": "code",
   "execution_count": null,
   "metadata": {},
   "outputs": [],
   "source": [
    "my_id = '7c0d9f66-a161-442f-9257-a723545b5957'\n",
    "url = f'https://api.academy.fuchicorp.com/v0.1/update_example/user/{my_id}'\n",
    "user = {}\n",
    "user['username'] = 'fnenciu'\n",
    "user['password'] = 'testPass'\n",
    "user['firstname'] = 'Florin'\n",
    "user['lastname'] = 'Nenciu'\n",
    "user['email'] = 'nenfl24@gmail.com'\n",
    "\n",
    "response = requests.put(url, json=user)\n",
    "print(response.json())"
   ]
  },
  {
   "cell_type": "code",
   "execution_count": null,
   "metadata": {},
   "outputs": [],
   "source": []
  }
 ],
 "metadata": {
  "kernelspec": {
   "display_name": "Python 3",
   "language": "python",
   "name": "python3"
  },
  "language_info": {
   "codemirror_mode": {
    "name": "ipython",
    "version": 3
   },
   "file_extension": ".py",
   "mimetype": "text/x-python",
   "name": "python",
   "nbconvert_exporter": "python",
   "pygments_lexer": "ipython3",
   "version": "3.6.5"
  }
 },
 "nbformat": 4,
 "nbformat_minor": 2
}
