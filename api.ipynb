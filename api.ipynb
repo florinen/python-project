{
 "cells": [
  {
   "cell_type": "code",
   "execution_count": 21,
   "metadata": {},
   "outputs": [
    {
     "name": "stdout",
     "output_type": "stream",
     "text": [
      "{'anonymus': True, 'email': 'fuchicorpsolution@gmail.com', 'message': 'Welcome to FuchiCorp API', 'owner': 'Farkhod Sadykov', 'status': 200}\n"
     ]
    }
   ],
   "source": [
    "#!python3.6 -m pip install requests #if you get error running below code\n",
    "\n",
    "import requests\n",
    "\n",
    "#response = requests.get('https://api.academy.fuchicorp.com/').json() #import the respons into json format\n",
    "#print(response)                    #you can also use '.json()' inside brackets ex: \"print(response.json())\"\n",
    "\n",
    "response = requests.get('https://api.academy.fuchicorp.com/')\n",
    "if response.status_code == 200:     #if the response is 200 then print the result\n",
    "    print(response.json())\n",
    "else:\n",
    "    print('Something went worng!!!')"
   ]
  },
  {
   "cell_type": "code",
   "execution_count": 3,
   "metadata": {},
   "outputs": [
    {
     "name": "stdout",
     "output_type": "stream",
     "text": [
      "{'username': 'fnenciu', 'password': 'redhat', 'firstname': 'Florin', 'lastname': 'Nenciu', 'email': 'nenfl24@gmail.com'}\n"
     ]
    }
   ],
   "source": [
    "user = {}\n",
    "user['username'] = 'fnenciu'\n",
    "user['password'] = 'redhat'\n",
    "user['firstname'] = 'Florin'\n",
    "user['lastname'] = 'Nenciu'\n",
    "user['email'] = 'nenfl24@gmail.com'\n",
    "print(user)"
   ]
  },
  {
   "cell_type": "code",
   "execution_count": 6,
   "metadata": {},
   "outputs": [
    {
     "name": "stdout",
     "output_type": "stream",
     "text": [
      "{'message': 'User already exist in system!!'}\n"
     ]
    }
   ],
   "source": [
    "response = requests.post('http://api.academy.fuchicorp.com/v0.1/create_example/user', json=user)  #add user to db\n",
    "print(response.json())"
   ]
  },
  {
   "cell_type": "code",
   "execution_count": 22,
   "metadata": {},
   "outputs": [
    {
     "name": "stdout",
     "output_type": "stream",
     "text": [
      "{'message': 'User information has been updated!!'}\n"
     ]
    }
   ],
   "source": [
    "my_id = '6b4ce0ad-e684-4426-a118-db59049ab638'\n",
    "update_url = f'https://api.academy.fuchicorp.com/v0.1/update_example/user/{my_id}'\n",
    "user = {\"username\": \"fnenciu\", \n",
    "        \"password\": \"redhat\", \n",
    "        \"firstname\": \"Florin\", \n",
    "        \"lastname\": \"Nenciu\", \n",
    "        \"email\": \"nenfl24@gmail.com\"}\n",
    "\n",
    "response = requests.put(update_url, json=user)\n",
    "if response.status_code == 200:\n",
    "    print(response.json())\n",
    "else:\n",
    "    print('Something went wrong')"
   ]
  },
  {
   "cell_type": "code",
   "execution_count": 25,
   "metadata": {},
   "outputs": [
    {
     "name": "stdout",
     "output_type": "stream",
     "text": [
      "User has been created!!\n"
     ]
    }
   ],
   "source": [
    "import requests\n",
    "url = 'https://api.academy.fuchicorp.com/v0.1/create_example/user'\n",
    "user = {\"username\": \"fnenciu\", \n",
    "        \"password\": \"redhat\", \n",
    "        \"firstname\": \"Florin\", \n",
    "        \"lastname\": \"Nenciu\", \n",
    "        \"email\": \"nenfl24@gmail.com\"}\n",
    "\n",
    "response = requests.post(url, json=user)\n",
    "if response.status_code == 200:\n",
    "    print(response.json()['message'])\n",
    "else:\n",
    "    print('Something went wrong')"
   ]
  },
  {
   "cell_type": "code",
   "execution_count": 26,
   "metadata": {},
   "outputs": [
    {
     "name": "stdout",
     "output_type": "stream",
     "text": [
      "{'message': 'User has been deleted!!', 'user_id': '517ac915-643a-4ec0-a6a9-081ab3740788'}\n"
     ]
    }
   ],
   "source": [
    "my_id = \"517ac915-643a-4ec0-a6a9-081ab3740788\"\n",
    "delete_url = f'https://api.academy.fuchicorp.com/v0.1/delete_example/user/{my_id}'\n",
    "user = {\"username\": \"fnenciu\", \n",
    "        \"password\": \"redhat\"\n",
    "       }\n",
    "\n",
    "response = requests.delete(delete_url, json=user)\n",
    "if response.status_code == 200:\n",
    "    print(response.json())\n",
    "else:\n",
    "    print('Something went wrong')"
   ]
  },
  {
   "cell_type": "code",
   "execution_count": null,
   "metadata": {},
   "outputs": [],
   "source": []
  }
 ],
 "metadata": {
  "kernelspec": {
   "display_name": "Python 3",
   "language": "python",
   "name": "python3"
  },
  "language_info": {
   "codemirror_mode": {
    "name": "ipython",
    "version": 3
   },
   "file_extension": ".py",
   "mimetype": "text/x-python",
   "name": "python",
   "nbconvert_exporter": "python",
   "pygments_lexer": "ipython3",
   "version": "3.6.5"
  }
 },
 "nbformat": 4,
 "nbformat_minor": 2
}
