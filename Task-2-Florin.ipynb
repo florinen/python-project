{
 "cells": [
  {
   "cell_type": "code",
   "execution_count": 1,
   "metadata": {},
   "outputs": [
    {
     "name": "stdout",
     "output_type": "stream",
     "text": [
      "emma-11\n",
      "Frank\n"
     ]
    },
    {
     "data": {
      "text/plain": [
       "False"
      ]
     },
     "execution_count": 1,
     "metadata": {},
     "output_type": "execute_result"
    }
   ],
   "source": [
    "github_users = []\n",
    "user_emma = {\"username\": 'emma-11', \"firstname\": 'Lopes', \"password\": 'redhat'}\n",
    "user_smith = {\"username\": \"frank\",\"firstname\": \"Frank\",\"lastname\": \"Smith\",\"password\": \"frank2019\"}\n",
    "github_users.append(user_emma)\n",
    "github_users.append(user_smith)\n",
    "print(github_users[0]['username'])\n",
    "print(github_users[1]['firstname']) is 'Frank'"
   ]
  },
  {
   "cell_type": "code",
   "execution_count": null,
   "metadata": {},
   "outputs": [],
   "source": []
  }
 ],
 "metadata": {
  "kernelspec": {
   "display_name": "Python 3",
   "language": "python",
   "name": "python3"
  },
  "language_info": {
   "codemirror_mode": {
    "name": "ipython",
    "version": 3
   },
   "file_extension": ".py",
   "mimetype": "text/x-python",
   "name": "python",
   "nbconvert_exporter": "python",
   "pygments_lexer": "ipython3",
   "version": "3.6.5"
  }
 },
 "nbformat": 4,
 "nbformat_minor": 2
}
