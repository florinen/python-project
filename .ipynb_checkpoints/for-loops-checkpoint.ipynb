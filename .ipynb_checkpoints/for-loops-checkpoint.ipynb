{
 "cells": [
  {
   "cell_type": "code",
   "execution_count": 53,
   "metadata": {},
   "outputs": [],
   "source": [
    "users = ['Abdul','Nodira', 'Zhanna']\n",
    "#for user in users:\n",
    "#    print(user)         # list all names in the list\n",
    "#for item in range(0, 3):  #print 'hello' 3 times\n",
    "#    print('Hello')\n",
    "#for example in range(0, 3):\n",
    "#    print(example, 'Hello')\n",
    "\n",
    "#data = [\n",
    "#    {\n",
    "#    \"avatar\": \"https://s3.amazonaws.com/uifaces/faces/twitter/marcoramires/128.jpg\",\n",
    "#    \"first_name\": \"Eve\",\n",
    "#    \"id\": 4,\n",
    "#    \"last_name\": \"Holt\"\n",
    "#    },\n",
    "#    {\n",
    "#    \"avatar\": \"https://s3.amazonaws.com/uifaces/faces/twitter/stephenmoon/128.jpg\",\n",
    "#   \"first_name\": \"Charles\",\n",
    "#    \"id\": 5,\n",
    "#    \"last_name\": \"Morris\"\n",
    "#    },\n",
    "#    {\n",
    "#    \"avatar\": \"https://s3.amazonaws.com/uifaces/faces/twitter/bigmancho/128.jpg\",\n",
    "#    \"first_name\": \"Tracey\",\n",
    "#    \"id\": 6,\n",
    "#    \"last_name\": \"Ramos\"\n",
    "#    }\n",
    "#]\n",
    "#\n",
    "#print(data[0])\n",
    "#for user in data: \n",
    "#    print(user)   #print all users inside 'data'\n",
    "#for user in data:\n",
    "# if user['first_name'] == 'Charles':  # lookup user 'Charles' in the list of users\n",
    "#        print(user)\n",
    "\n",
    "#while True:\n",
    "#    print('Hello') #print hello endlesly if break is not there\n",
    "#    break\n",
    "\n",
    "#my_string = 'This is my string'\n",
    "#print(my_string)\n",
    "#for item in my_string:\n",
    "#    print(item)\n",
    "#for item in my_string.split(' '):  #splits my_string in a lists and prints out 'This'\n",
    "#    if 'This' == item:\n",
    "#        print('Yes it is')\n",
    "  \n",
    "#if 'This' in my_string:\n",
    "#    print('Yes it is')\n",
    "\n",
    "#for tagname in range(0, 4):\n",
    "#    print(f'Create instance with tag example-{tagname}')  #create multipla vm with different count nr.\n",
    "\n",
    "import os\n",
    "users = ['Anna','Zhanna','Abdul','Alibek']\n",
    "for user in users:\n",
    "   # print(user)\n",
    "    os.system(f'useradd {user}')  #create users \n",
    "    os.system(f'mkdir /home/{users}/.ssh') #create folder .ssh\n",
    "    print()\n",
    "#!cat /etc/passwd\n",
    "\n"
   ]
  },
  {
   "cell_type": "code",
   "execution_count": 56,
   "metadata": {},
   "outputs": [
    {
     "name": "stdout",
     "output_type": "stream",
     "text": [
      "User not found\n"
     ]
    }
   ],
   "source": [
    "for user in data:\n",
    "    if \"Anna\" == user['first_name']:\n",
    "        print('User found')\n",
    "else:\n",
    "        print('User not found')"
   ]
  },
  {
   "cell_type": "code",
   "execution_count": 70,
   "metadata": {},
   "outputs": [
    {
     "name": "stdout",
     "output_type": "stream",
     "text": [
      "############################################\n",
      "###abdulsharif\n",
      "Python\n",
      "Jenkins\n",
      "Ansible\n",
      "Please enter Full Name :\n",
      "Please enter username :\n",
      "What is your password :\n",
      "User has been created!\n",
      "Do you want to stop it yes/no :y\n",
      "Bye!! \n",
      "[{'full_name': '', 'username': '', 'password': ''}]\n"
     ]
    }
   ],
   "source": [
    "student ={\n",
    "    'username': 'abdulsharif',\n",
    "    'password': 'redhat',\n",
    "    'classes': ['Python','Jenkins','Ansible']\n",
    "}\n",
    "print('############################################')\n",
    "print(f'###{student[\"username\"]}')\n",
    "for item in student['classes']:  #print items in 'classes'\n",
    "      print(item)\n",
    "\n",
    "dataBase = []  #user db\n",
    "import time\n",
    "yesAnswer = ['YES','Yes','y','YeS','YEs','yes']\n",
    "while True:             # create data base with users\n",
    "      studentObject = {}\n",
    "      studentObject['full_name'] = input('Please enter Full Name :')\n",
    "      studentObject['username'] = input('Please enter username :').lower()\n",
    "      studentObject['password'] = input('What is your password :')\n",
    "      time.sleep(2)\n",
    "      dataBase.append(studentObject)  #will append objects to db\n",
    "      print('User has been created!')\n",
    "      answer = input('Do you want to stop it yes/no :')\n",
    "      if answer in yesAnswer:\n",
    "          print('Bye!! ')\n",
    "          break\n",
    "print(dataBase)  \n",
    "      \n",
    "      "
   ]
  },
  {
   "cell_type": "code",
   "execution_count": null,
   "metadata": {},
   "outputs": [],
   "source": []
  }
 ],
 "metadata": {
  "kernelspec": {
   "display_name": "Python 3",
   "language": "python",
   "name": "python3"
  },
  "language_info": {
   "codemirror_mode": {
    "name": "ipython",
    "version": 3
   },
   "file_extension": ".py",
   "mimetype": "text/x-python",
   "name": "python",
   "nbconvert_exporter": "python",
   "pygments_lexer": "ipython3",
   "version": "3.6.5"
  }
 },
 "nbformat": 4,
 "nbformat_minor": 2
}
