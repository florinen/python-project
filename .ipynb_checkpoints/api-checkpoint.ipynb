{
 "cells": [
  {
   "cell_type": "code",
   "execution_count": 2,
   "metadata": {},
   "outputs": [
    {
     "name": "stdout",
     "output_type": "stream",
     "text": [
      "[{'UUID': '98b3e0db-1552-4008-924e-d738fafad5ac', 'email': 'example1@gmail.com', 'firstname': 'Nazira', 'lastname': 'Sadykov', 'password': 'sha256$Lj4eMcEm$ecebe2056f5430a74133ba734806dd0613fdbbdc03a648f9b45e517ebb259bf0', 'status': '0', 'username': 'example1'}, {'UUID': '39335991-0ee7-403c-b947-0b9f25c48d62', 'email': 'nsaip@evolvecyber.com', 'firstname': 'Nadira', 'lastname': 'Saip', 'password': 'sha256$Kuj2A0SD$e75401a41b893296222f4cf84ee70b9bebd87541b6c8607ceadeaf3c0ee46a92', 'status': '0', 'username': 'nsaip'}, {'UUID': '2ab49f25-cdf0-4192-af82-fb2115c0de36', 'email': 'aamalanova@gmail.com', 'firstname': 'Anna', 'lastname': 'M', 'password': 'sha256$Hnj1e2sw$3cea4a030e5b6282c7f4f29c2abd46a49af07b029d71cb630b4fb7a7a7aba26c', 'status': '0', 'username': 'annam'}]\n"
     ]
    }
   ],
   "source": [
    "#!python3.6 -m pip install requests #if you get error running below code\n",
    "\n",
    "import requests\n",
    "\n",
    "#response = requests.get('https://api.academy.fuchicorp.com/').json() #import the respons into json format\n",
    "#print(response)                    #you can also use '.json()' inside brackets ex: \"print(response.json())\"\n",
    "\n",
    "response = requests.get('https://api.academy.fuchicorp.com/v0.1/example/users')\n",
    "if response.status_code == 200:     #if the response is 200 then print the result\n",
    "    print(response.json())\n",
    "else:\n",
    "    print('Something went worng!!!')"
   ]
  },
  {
   "cell_type": "code",
   "execution_count": 3,
   "metadata": {},
   "outputs": [
    {
     "name": "stdout",
     "output_type": "stream",
     "text": [
      "{'username': 'fnenciu', 'password': 'redhat', 'firstname': 'Florin', 'lastname': 'Nenciu', 'email': 'nenfl24@gmail.com'}\n"
     ]
    }
   ],
   "source": [
    "user = {}\n",
    "user['username'] = 'fnenciu'\n",
    "user['password'] = 'redhat'\n",
    "user['firstname'] = 'Florin'\n",
    "user['lastname'] = 'Nenciu'\n",
    "user['email'] = 'nenfl24@gmail.com'\n",
    "print(user)"
   ]
  },
  {
   "cell_type": "code",
   "execution_count": 4,
   "metadata": {},
   "outputs": [
    {
     "name": "stdout",
     "output_type": "stream",
     "text": [
      "{'message': 'User has been created!!'}\n"
     ]
    }
   ],
   "source": [
    "response = requests.post('http://api.academy.fuchicorp.com/v0.1/create_example/user', json=user)  #add user to db\n",
    "print(response.json())"
   ]
  },
  {
   "cell_type": "code",
   "execution_count": 5,
   "metadata": {},
   "outputs": [
    {
     "name": "stdout",
     "output_type": "stream",
     "text": [
      "{'message': 'User name or password is invalid'}\n"
     ]
    }
   ],
   "source": [
    "my_id = '7c0d9f66-a161-442f-9257-a723545b5957'\n",
    "url = f'https://api.academy.fuchicorp.com/v0.1/update_example/user/{my_id}'\n",
    "user = {}\n",
    "user['username'] = 'fnenciu'\n",
    "user['password'] = 'testPass'\n",
    "user['firstname'] = 'Florin'\n",
    "user['lastname'] = 'Nenciu'\n",
    "user['email'] = 'nenfl24@gmail.com'\n",
    "\n",
    "response = requests.put(url, json=user)\n",
    "print(response.json())"
   ]
  },
  {
   "cell_type": "code",
   "execution_count": null,
   "metadata": {},
   "outputs": [],
   "source": []
  }
 ],
 "metadata": {
  "kernelspec": {
   "display_name": "Python 3",
   "language": "python",
   "name": "python3"
  },
  "language_info": {
   "codemirror_mode": {
    "name": "ipython",
    "version": 3
   },
   "file_extension": ".py",
   "mimetype": "text/x-python",
   "name": "python",
   "nbconvert_exporter": "python",
   "pygments_lexer": "ipython3",
   "version": "3.6.5"
  }
 },
 "nbformat": 4,
 "nbformat_minor": 2
}
