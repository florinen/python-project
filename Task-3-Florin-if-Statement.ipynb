{
 "cells": [
  {
   "cell_type": "code",
   "execution_count": 17,
   "metadata": {},
   "outputs": [
    {
     "name": "stdout",
     "output_type": "stream",
     "text": [
      "email: Keving.Wick@Fuchicorp.com\n",
      "email: Emma.Gipson@Apple.com\n",
      "None\n",
      "None\n",
      "Emma\n",
      "[{'username': 'cutiebun', 'status': False, 'first_name': 'Emma', 'last_name': 'Gipson', 'gender': 'female', 'member': 'Apple'}]\n",
      "[{'username': 'keving', 'status': True, 'first_name': 'Keving', 'last_name': 'Wick', 'gender': 'male', 'member': 'Fuchicorp'}]\n"
     ]
    }
   ],
   "source": [
    "female = []\n",
    "male = []\n",
    "\n",
    "user1 = {\n",
    "    'username': 'keving',\n",
    "    'status': True,\n",
    "    'first_name': 'Keving',\n",
    "    'last_name': 'Wick',\n",
    "    'gender': 'male',\n",
    "    'member': 'Fuchicorp'\n",
    "}\n",
    "user2 = {\n",
    "    'username': 'cutiebun',\n",
    "    'status': False,\n",
    "    'first_name': 'Emma',\n",
    "    'last_name': 'Gipson',\n",
    "    'gender': 'female',\n",
    "    'member': 'Apple'\n",
    "}\n",
    "\n",
    "          \n",
    "if user1['member']:\n",
    "    print(f'email: {user1[\"first_name\"]}.{user1[\"last_name\"]}@{user1[\"member\"]}.com')\n",
    "else:\n",
    "    print('bye!')\n",
    "if user2['member']:\n",
    "          print(f'email: {user2[\"first_name\"]}.{user2[\"last_name\"]}@{user2[\"member\"]}.com')\n",
    "\n",
    "                \n",
    "\n",
    "if 'male' in user1['gender']:\n",
    "          print(male.append(user1))\n",
    "                \n",
    "else:\n",
    "     female.append(user1)\n",
    "                \n",
    "if 'female' in user2['gender']:\n",
    "          print(female.append(user2))\n",
    "else:\n",
    "     male.append(user2)\n",
    "                \n",
    "print(female[0]['first_name'])\n",
    "                \n",
    "print(female)\n",
    "print(male)"
   ]
  },
  {
   "cell_type": "code",
   "execution_count": 2,
   "metadata": {},
   "outputs": [
    {
     "name": "stdout",
     "output_type": "stream",
     "text": [
      "[{'username': 'keving', 'status': True, 'first_name': 'Keving', 'last_name': 'Wick', 'gender': 'male', 'member': 'Fuchicorp', 'email': 'keving.wick@fuchicorp.com'}]\n",
      "[{'username': 'cutiebun', 'status': False, 'first_name': 'Emma', 'last_name': 'Gipson', 'gender': 'female', 'member': 'Apple', 'email': 'emma.gipson@apple.com'}]\n"
     ]
    }
   ],
   "source": [
    "female = []\n",
    "male = []\n",
    "\n",
    "user1 = {\n",
    "    'username': 'keving',\n",
    "    'status': True,\n",
    "    'first_name': 'Keving',\n",
    "    'last_name': 'Wick',\n",
    "    'gender': 'male',\n",
    "    'member': 'Fuchicorp'\n",
    "}\n",
    "user2 = {\n",
    "    'username': 'cutiebun',\n",
    "    'status': False,\n",
    "    'first_name': 'Emma',\n",
    "    'last_name': 'Gipson',\n",
    "    'gender': 'female',\n",
    "    'member': 'Apple'\n",
    "}\n",
    "\n",
    "if user1['member'].lower() == 'fuchicorp' or user1['member'].lower() == 'apple':\n",
    "    email = user1['first_name'].lower() + '.' + user1['last_name'].lower() + '@' + user1['member'].lower() + '.com'\n",
    "    user1.update({'email':email})\n",
    "if user2['member'].lower() == 'fuchicorp' or user2['member'].lower() == 'apple':\n",
    "    email = user2['first_name'].lower() + '.' + user2['last_name'].lower() + '@' + user2['member'].lower() + '.com'\n",
    "    user2.update({'email':email})\n",
    "if user1['gender'].lower() == 'male':\n",
    "    male.append(user1)\n",
    "else:\n",
    "    female.append(user1)\n",
    "if user2['gender'].lower() == 'male':\n",
    "    male.append(user2)\n",
    "else:\n",
    "    female.append(user2)\n",
    "print(male)\n",
    "print(female)"
   ]
  },
  {
   "cell_type": "code",
   "execution_count": null,
   "metadata": {},
   "outputs": [],
   "source": []
  }
 ],
 "metadata": {
  "kernelspec": {
   "display_name": "Python 3",
   "language": "python",
   "name": "python3"
  },
  "language_info": {
   "codemirror_mode": {
    "name": "ipython",
    "version": 3
   },
   "file_extension": ".py",
   "mimetype": "text/x-python",
   "name": "python",
   "nbconvert_exporter": "python",
   "pygments_lexer": "ipython3",
   "version": "3.6.5"
  }
 },
 "nbformat": 4,
 "nbformat_minor": 2
}
