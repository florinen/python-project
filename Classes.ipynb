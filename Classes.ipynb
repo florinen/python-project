{
 "cells": [
  {
   "cell_type": "code",
   "execution_count": 16,
   "metadata": {},
   "outputs": [
    {
     "name": "stdout",
     "output_type": "stream",
     "text": [
      "[]\n",
      "Emma has been added to db!!\n",
      "Nodira has been added to db!!\n",
      "User has been deleted\n",
      "[{'FirstName': 'Emma', 'LastName': 'Miller', 'Gender': 'female', 'Status': False}]\n"
     ]
    }
   ],
   "source": [
    "dataBase = []\n",
    "class Student(object):\n",
    "    def __init__(self, givenFirstName, givenLastName, givenGender, givenStatus=None):\n",
    "        self.name = givenFirstName\n",
    "        self.lastname = givenLastName\n",
    "        self.gender = givenGender\n",
    "        self.status = givenStatus\n",
    "        if givenStatus is None:\n",
    "            self.status = False\n",
    "        \n",
    "    def print_info(self):\n",
    "        print(f'Hello ,\\n my name is {self.name}')\n",
    "        \n",
    "    def save_info(self):\n",
    "\n",
    "        dataBase.append({'FirstName': self.name,\n",
    "                'LastName': self.lastname,\n",
    "                'Gender': self.gender,\n",
    "                'Status': self.status}) \n",
    "        print(f'{self.name} has been added to db!!')\n",
    "        \n",
    "class Manager(Student):\n",
    "    def __init__(self, givenFirstName, givenLastName, givenGender, givenRole, givenStatus=None):\n",
    "        self.role = givenRole\n",
    "        super().__init__(givenFirstName, givenLastName, givenGender, givenStatus=None)\n",
    "        \n",
    "    def delete_user(self, name):\n",
    "        for user in dataBase:\n",
    "            if name in user['FirstName']:\n",
    "                dataBase.remove(user)\n",
    "                print('User has been deleted')\n",
    "                break\n",
    "        else:\n",
    "            print('User not found')\n",
    "\n",
    "\n",
    "\n",
    "user2 = Student('Emma', 'Miller', 'female',)\n",
    "user3 = Student('Nodira', 'Saip', 'female', True)\n",
    "manager = Manager('Kyle', 'Smith', 'Male', True)\n",
    "\n",
    "print(dataBase)\n",
    "user2.save_info()\n",
    "user3.save_info()\n",
    "manager.delete_user('Nodira')\n",
    "print(dataBase)       "
   ]
  },
  {
   "cell_type": "code",
   "execution_count": null,
   "metadata": {},
   "outputs": [],
   "source": [
    "\n",
    "#user1.name = 'Kyle'\n",
    "# user1.lastname = 'Smith'\n",
    "# user1.gender = 'male'\n",
    "# user1.status = False"
   ]
  },
  {
   "cell_type": "code",
   "execution_count": null,
   "metadata": {},
   "outputs": [],
   "source": [
    "print(user1.name)"
   ]
  },
  {
   "cell_type": "code",
   "execution_count": null,
   "metadata": {},
   "outputs": [],
   "source": []
  }
 ],
 "metadata": {
  "kernelspec": {
   "display_name": "Python 3",
   "language": "python",
   "name": "python3"
  },
  "language_info": {
   "codemirror_mode": {
    "name": "ipython",
    "version": 3
   },
   "file_extension": ".py",
   "mimetype": "text/x-python",
   "name": "python",
   "nbconvert_exporter": "python",
   "pygments_lexer": "ipython3",
   "version": "3.6.5"
  }
 },
 "nbformat": 4,
 "nbformat_minor": 2
}
