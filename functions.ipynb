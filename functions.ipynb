{
 "cells": [
  {
   "cell_type": "code",
   "execution_count": 82,
   "metadata": {},
   "outputs": [
    {
     "ename": "SyntaxError",
     "evalue": "invalid syntax (<ipython-input-82-05da9c28e0c0>, line 39)",
     "output_type": "error",
     "traceback": [
      "\u001b[0;36m  File \u001b[0;32m\"<ipython-input-82-05da9c28e0c0>\"\u001b[0;36m, line \u001b[0;32m39\u001b[0m\n\u001b[0;31m    if user = user['first_name']:\u001b[0m\n\u001b[0m            ^\u001b[0m\n\u001b[0;31mSyntaxError\u001b[0m\u001b[0;31m:\u001b[0m invalid syntax\n"
     ]
    }
   ],
   "source": [
    "evolveCyberDatabase = []\n",
    "\n",
    "def new_student(first_name, last_name, username, group):  #new_student function contains 2 arguments\n",
    "    student = {}\n",
    "    student['first_name'] = first_name.capitalize()\n",
    "    student['last_name'] = last_name.capitalize()\n",
    "    student['username'] = username.lower()\n",
    "    student['group'] = group.capitalize()\n",
    "    evolveCyberDatabase.append(student)  #add the student to db\n",
    "    print(f'User {username}, has been added to EvolveCyber')\n",
    "\n",
    "    \n",
    "def delete_student(username):\n",
    "    for user in evolveCyberDatabase:\n",
    "        if user['username'] == username:  #find the user 'username' in db\n",
    "            evolveCyberDatabase.remove(user)   # if user mach the delete the user\n",
    "            print(f' User {username}, been deleted from EvolveCyber')\n",
    "        else:\n",
    "            print('User not found')  \n",
    "            \n",
    "def change_fullname(username, first_name = None, last_name = None):\n",
    "    for user in evolveCyberDatabase:\n",
    "        if user['username'] == username:\n",
    "            if first_name:\n",
    "                user['first_name'] = first_name\n",
    "                print('First name has been updated')\n",
    "            if last_name:\n",
    "                user['last_name'] = last_name\n",
    "                print('Last name has been updated')\n",
    "            \n",
    "def is_student_exist(username):\n",
    "     for user in evolveCyberDatabase:\n",
    "            if username == user['username']:\n",
    "                return True\n",
    "            return False\n",
    "    \n",
    "def find_user(first_name):\n",
    "    for user in evolveCyberDatabase:\n",
    "        if first_name == user['first_name']:\n",
    "            return user\n",
    "        return False\n",
    "        \n",
    "        \n"
   ]
  },
  {
   "cell_type": "code",
   "execution_count": 80,
   "metadata": {},
   "outputs": [
    {
     "name": "stdout",
     "output_type": "stream",
     "text": [
      "User aziza93, has been added to EvolveCyber\n",
      "User abdulcoder, has been added to EvolveCyber\n"
     ]
    }
   ],
   "source": [
    "new_student('aziza', 'nemad', 'aziza93', 'devops')  #define the user\n",
    "new_student('abdul', 'sharif', 'abdulcoder', 'dev')"
   ]
  },
  {
   "cell_type": "code",
   "execution_count": 57,
   "metadata": {},
   "outputs": [
    {
     "name": "stdout",
     "output_type": "stream",
     "text": [
      "abdulcoder Sharif Abdul\n"
     ]
    }
   ],
   "source": [
    "#change_fullname('abdulcoder','Sharif','')"
   ]
  },
  {
   "cell_type": "code",
   "execution_count": 84,
   "metadata": {},
   "outputs": [
    {
     "ename": "NameError",
     "evalue": "name 'find_user' is not defined",
     "output_type": "error",
     "traceback": [
      "\u001b[0;31m---------------------------------------------------------------------------\u001b[0m",
      "\u001b[0;31mNameError\u001b[0m                                 Traceback (most recent call last)",
      "\u001b[0;32m<ipython-input-84-66cc49d15926>\u001b[0m in \u001b[0;36m<module>\u001b[0;34m\u001b[0m\n\u001b[0;32m----> 1\u001b[0;31m \u001b[0mabdul_user\u001b[0m \u001b[0;34m=\u001b[0m \u001b[0mfind_user\u001b[0m\u001b[0;34m(\u001b[0m\u001b[0;34m'abdul'\u001b[0m\u001b[0;34m)\u001b[0m\u001b[0;34m\u001b[0m\u001b[0m\n\u001b[0m",
      "\u001b[0;31mNameError\u001b[0m: name 'find_user' is not defined"
     ]
    }
   ],
   "source": [
    "abdul_user = find_user('abdul')"
   ]
  },
  {
   "cell_type": "code",
   "execution_count": 81,
   "metadata": {},
   "outputs": [
    {
     "name": "stdout",
     "output_type": "stream",
     "text": [
      "False\n"
     ]
    }
   ],
   "source": [
    "print(is_student_exist('abdulcoder'))"
   ]
  },
  {
   "cell_type": "code",
   "execution_count": 62,
   "metadata": {},
   "outputs": [
    {
     "name": "stdout",
     "output_type": "stream",
     "text": [
      "[{'first_name': 'Aziza', 'last_name': 'Nemad', 'username': 'aziza93', 'group': 'Devops'}, {'first_name': 'Abdul', 'last_name': 'Sharif', 'username': 'abdulcoder', 'group': 'Dev'}, {'first_name': 'Aziza', 'last_name': 'Nemad', 'username': 'aziza93', 'group': 'Devops'}, {'first_name': 'Abdul', 'last_name': 'Sharif', 'username': 'abdulcoder', 'group': 'Dev'}]\n"
     ]
    }
   ],
   "source": [
    "print(evolveCyberDatabase)\n",
    "#delete_student('aziza93') #delete the user that maches 'aziza93'\n",
    "#print(evolveCyberDatabase)"
   ]
  },
  {
   "cell_type": "code",
   "execution_count": null,
   "metadata": {},
   "outputs": [],
   "source": []
  }
 ],
 "metadata": {
  "kernelspec": {
   "display_name": "Python 3",
   "language": "python",
   "name": "python3"
  },
  "language_info": {
   "codemirror_mode": {
    "name": "ipython",
    "version": 3
   },
   "file_extension": ".py",
   "mimetype": "text/x-python",
   "name": "python",
   "nbconvert_exporter": "python",
   "pygments_lexer": "ipython3",
   "version": "3.6.5"
  }
 },
 "nbformat": 4,
 "nbformat_minor": 2
}
