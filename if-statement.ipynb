{
 "cells": [
  {
   "cell_type": "code",
   "execution_count": null,
   "metadata": {},
   "outputs": [],
   "source": [
    "door = 'open'   #define the variable with it's value\n",
    "if door == 'open':   #if door is open\n",
    "    print('Yes, you can go!!!')\n",
    "elif door == 'close':  #if door is closed\n",
    "    print('No, you can not go!!!') \n",
    "else :\n",
    "    print('something wrong!') # if the 'door' value is not 'open' print this msg"
   ]
  },
  {
   "cell_type": "code",
   "execution_count": null,
   "metadata": {},
   "outputs": [],
   "source": [
    "name = input('What is your name? :')\n",
    "print('Hello ' + name)\n",
    "name = name.capitalize()   # overide the varable name\n",
    "\n",
    "if name == 'Anna':  #if the name provided is Anna  \n",
    "    print('Privet ' + name)  # print this msg\n",
    "    \n",
    "elif name == \"Florin\": #if name provided is Florin \n",
    "    print('Salom ' + name)  # print this msg\n",
    "else:                      #if none of the names match then \n",
    "    \n",
    "    print('Hello ' + name) # print this msg"
   ]
  },
  {
   "cell_type": "code",
   "execution_count": 3,
   "metadata": {},
   "outputs": [
    {
     "name": "stdout",
     "output_type": "stream",
     "text": [
      "What is your name: :nenciu\n",
      "Hello come in\n"
     ]
    }
   ],
   "source": [
    "black_list = ['Abdul', 'Farkhod', 'Florin']\n",
    "student = input('What is your name: :')\n",
    "student = student.capitalize()  #if name is lower case then overide with this function\n",
    "\n",
    "if student in black_list:\n",
    "    print('Sorry you can not come in')\n",
    "    \n",
    "else:\n",
    "    print('Hello come in')\n"
   ]
  },
  {
   "cell_type": "code",
   "execution_count": 11,
   "metadata": {},
   "outputs": [
    {
     "name": "stdout",
     "output_type": "stream",
     "text": [
      "What is your name? :florin\n",
      "What is your birthday <yearr>? :2000\n",
      "Your name is :Florin, Your age is :19\n"
     ]
    },
    {
     "data": {
      "text/plain": [
       "int"
      ]
     },
     "execution_count": 11,
     "metadata": {},
     "output_type": "execute_result"
    }
   ],
   "source": [
    "name = input('What is your name? :').capitalize()  # capitalize will make sure input will be capitalized\n",
    "#print(name)\n",
    "year = int(input('What is your birthday <yearr>? :'))  #int will convert string to integer\n",
    "age = 2019 - year\n",
    "print(f'Your name is :{name}, Your age is :{age}')\n",
    "type(year)\n"
   ]
  },
  {
   "cell_type": "code",
   "execution_count": 13,
   "metadata": {},
   "outputs": [
    {
     "name": "stdout",
     "output_type": "stream",
     "text": [
      "Please come in\n"
     ]
    }
   ],
   "source": [
    "door = True\n",
    "if door:\n",
    "    print('Please come in')\n",
    "else:   #use else with boolean and elif with strings\n",
    "    print('Door is close!!')\n"
   ]
  },
  {
   "cell_type": "code",
   "execution_count": 33,
   "metadata": {},
   "outputs": [
    {
     "name": "stdout",
     "output_type": "stream",
     "text": [
      "##############################################################\n",
      "['Python', 'Terraform', 'Ansible']\n",
      "######## info about Abdul Sharif ######\n",
      "##############################################################\n",
      "## Username: asharif\n",
      "## Full Name: Abdul Sharif\n",
      "## User can not login\n",
      "## User is attending Python class\n",
      "## User is attending Terraform class\n",
      "## User is attending Ansible class\n"
     ]
    }
   ],
   "source": [
    "student = {'first_name': 'Abdul',\n",
    "           'last_name': 'Sharif',\n",
    "           'username': 'asharif',\n",
    "           'password': 'redhat',\n",
    "           'status': False,\n",
    "           'classes': ['Python', 'Terraform', 'Ansible']\n",
    "          }\n",
    "print('##############################################################')\n",
    "print(student['classes'])  #print only the value of 'classes' key\n",
    "\n",
    "\n",
    "print(f'######## info about {student[\"first_name\"]} {student[\"last_name\"]} ######')\n",
    "print('##############################################################')\n",
    "print(f'## Username: {student[\"username\"]}')\n",
    "print(f'## Full Name: {student[\"first_name\"]} {student[\"last_name\"]}')\n",
    "\n",
    "if student['status']: #if status is False user can not login. \n",
    "      print('## User can login')\n",
    "else:\n",
    "      print('## User can not login')\n",
    "if 'Python' in student['classes']:      \n",
    "      print('## User is attending Python class')\n",
    " \n",
    "if 'Terraform' in student['classes']:\n",
    "      print('## User is attending Terraform class')\n",
    "if 'Ansible' in student['classes']:      \n",
    "      print('## User is attending Ansible class')     "
   ]
  },
  {
   "cell_type": "code",
   "execution_count": null,
   "metadata": {},
   "outputs": [],
   "source": []
  }
 ],
 "metadata": {
  "kernelspec": {
   "display_name": "Python 3",
   "language": "python",
   "name": "python3"
  },
  "language_info": {
   "codemirror_mode": {
    "name": "ipython",
    "version": 3
   },
   "file_extension": ".py",
   "mimetype": "text/x-python",
   "name": "python",
   "nbconvert_exporter": "python",
   "pygments_lexer": "ipython3",
   "version": "3.6.5"
  }
 },
 "nbformat": 4,
 "nbformat_minor": 2
}
