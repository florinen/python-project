{
 "cells": [
  {
   "cell_type": "code",
   "execution_count": 86,
   "metadata": {},
   "outputs": [],
   "source": [
    "class DigitalClient:\n",
    "    \n",
    "    def __init__(self, token):\n",
    "        self.auth = {\n",
    "            'Authorization':f'Bearer {token}',\n",
    "            'Content-Type':'application/json'\n",
    "        }\n",
    "        \n",
    "    def getDroplets(self, printd=True):\n",
    "        url = \"https://api.digitalocean.com/v2/droplets\"\n",
    "        droplets = requests.get(url, headers=self.auth)\n",
    "        if droplets.status_code == 200 and printd:\n",
    "            for item in droplets.json()['droplets']:\n",
    "                print(item['name'])\n",
    "        return droplets.json()['droplets']\n",
    "    \n",
    "    def createDroplet(self, name, image, key):\n",
    "        url = \"https://api.digitalocean.com/v2/droplets\"\n",
    "        droplet = {\n",
    "            \"name\":name,\n",
    "            \"region\":\"nyc3\",\n",
    "            \"size\":\"s-1vcpu-1gb\",\n",
    "            \"image\":image,\n",
    "            \"ssh_keys\":[key],\n",
    "            \"backups\":False,\n",
    "            \"ipv6\":False,\n",
    "            \"user_data\":None,\n",
    "            \"private_networking\":None,\n",
    "            \"volumes\": None,\n",
    "            \"tags\":[\"web\"]\n",
    "        }\n",
    "        response = requests.post(url, headers=self.auth, json=droplet)\n",
    "        if response.status_code == 202:\n",
    "            print('Droplet {} is being created'.format(response.json()[\"droplet\"][\"name\"]))\n",
    "    \n",
    "    def deleteDroplet(self, name):\n",
    "        dropletsList = self.getDroplets(False)\n",
    "        for droplet in dropletsList:\n",
    "            if(droplet['name'] == name):\n",
    "                url = \"https://api.digitalocean.com/v2/droplets/\" + str(droplet['id'])\n",
    "                response = requests.delete(url, headers=self.auth)\n",
    "                if response.status_code == 204:\n",
    "                    print('Droplet {} is deleted'.format(droplet['id']))\n",
    "\n",
    "    \n",
    "    def getImages(self):\n",
    "        url = \"https://api.digitalocean.com/v2/images?page=1&per_page=999&type=distribution\"\n",
    "        images = requests.get(url, headers=self.auth)\n",
    "        if images.status_code == 200:\n",
    "              for item in images.json()['images']:\n",
    "                print(item['id'], end=\"\")\n",
    "                print(' '+str(item['description']))\n",
    "     \n",
    "    \n",
    "    def whoAmI(self):\n",
    "        url = \"https://api.digitalocean.com/v2/account\"\n",
    "        account = requests.get(url, headers=self.auth)\n",
    "        if account.status_code == 200:\n",
    "            print(account.json())\n",
    "\n",
    "    def getDroplet(self, name):\n",
    "        dropletsList = self.getDroplets(False)\n",
    "        for droplet in dropletsList:\n",
    "            if(droplet['name'] == name):\n",
    "                print(droplet)\n",
    "                break"
   ]
  },
  {
   "cell_type": "code",
   "execution_count": 89,
   "metadata": {},
   "outputs": [],
   "source": [
    "do_client = DigitalClient(token)\n",
    "#do_client.getDroplets()\n",
    "#do_client.createDroplet('task6', 'ubuntu-16-04-x64', '2f:c7:9c:17:c3:89:bb:42:da:7e:8b:b9:db:50:e3:fc')\n",
    "#do_client.deleteDroplet('task6')\n",
    "#do_client.getImages()\n",
    "#do_client.whoAmI()\n",
    "#do_client.getDroplet('task6')"
   ]
  },
  {
   "cell_type": "code",
   "execution_count": null,
   "metadata": {},
   "outputs": [],
   "source": []
  },
  {
   "cell_type": "code",
   "execution_count": null,
   "metadata": {},
   "outputs": [],
   "source": []
  }
 ],
 "metadata": {
  "kernelspec": {
   "display_name": "Python 3",
   "language": "python",
   "name": "python3"
  },
  "language_info": {
   "codemirror_mode": {
    "name": "ipython",
    "version": 3
   },
   "file_extension": ".py",
   "mimetype": "text/x-python",
   "name": "python",
   "nbconvert_exporter": "python",
   "pygments_lexer": "ipython3",
   "version": "3.6.5"
  }
 },
 "nbformat": 4,
 "nbformat_minor": 2
}
