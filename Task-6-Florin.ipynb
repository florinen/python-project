{
 "cells": [
  {
   "cell_type": "code",
   "execution_count": null,
   "metadata": {},
   "outputs": [],
   "source": [
    "%set_env DIGITAL_TOKEN=your token"
   ]
  },
  {
   "cell_type": "code",
   "execution_count": null,
   "metadata": {},
   "outputs": [],
   "source": [
    "import os, requests\n",
    "token = os.environ.get('DIGITAL_TOKEN')\n",
    "\n",
    "\n",
    "class Digital_client():\n",
    "    def __init__(self, token):\n",
    "        self.auth = {\n",
    "            \"Authorization\" : f' Bearer {token}',\n",
    "            \"Content-Type\" : \"application/json\"\n",
    "        }\n",
    "\n",
    "\n",
    "    def get_list_droplets():\n",
    "        url = 'https://api.digitalocean.com/v2/droplets'\n",
    "        response = requests.get(url=url, headers=self.auth)\n",
    "        if response.status_code == 200:\n",
    "            for item in response.json()['droplets']:\n",
    "                print(item['name'])\n",
    "        else:\n",
    "            print(f'API returned {response.status_code}')\n",
    "\n",
    "\n",
    "    def create_droplet(self, name, image, key):\n",
    "        url = 'https://api.digitalocean.com/v2/droplets'\n",
    "        droplet = {\n",
    "             'name': name, \n",
    "             'region': 'nyc3', \n",
    "             'size': 's-1vcpu-1gb', \n",
    "             'image': image, \n",
    "             'ssh_keys': key, \n",
    "             'backups': False, \n",
    "             'ipv6': True, \n",
    "             'user_data': None, \n",
    "             'private_networking': None, \n",
    "             'volumes': None, \n",
    "             'tags': ['web']\n",
    "        }\n",
    "        response = requests.post(url=url, headers=self.auth, json=droplet)\n",
    "        if response.status_code == 200 or response.status_code == 202:\n",
    "            print('Droplet is being created !!')\n"
   ]
  },
  {
   "cell_type": "code",
   "execution_count": null,
   "metadata": {},
   "outputs": [],
   "source": [
    "# droplet = Digital_client(self, token)\n",
    "create_droplet('test', 'buntu-16-04-x64', '19:f6:04:89:73:4a:50:2d:dd:27:20:a2:80:1c:46:d7')"
   ]
  },
  {
   "cell_type": "code",
   "execution_count": null,
   "metadata": {},
   "outputs": [],
   "source": []
  }
 ],
 "metadata": {
  "kernelspec": {
   "display_name": "Python 3",
   "language": "python",
   "name": "python3"
  },
  "language_info": {
   "codemirror_mode": {
    "name": "ipython",
    "version": 3
   },
   "file_extension": ".py",
   "mimetype": "text/x-python",
   "name": "python",
   "nbconvert_exporter": "python",
   "pygments_lexer": "ipython3",
   "version": "3.6.5"
  }
 },
 "nbformat": 4,
 "nbformat_minor": 2
}
