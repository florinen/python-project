{
 "cells": [
  {
   "cell_type": "code",
   "execution_count": 1,
   "metadata": {},
   "outputs": [],
   "source": [
    "import json\n",
    "with open('data.json') as data:\n",
    "    py_data = json.load(data)"
   ]
  },
  {
   "cell_type": "code",
   "execution_count": 3,
   "metadata": {},
   "outputs": [
    {
     "name": "stdout",
     "output_type": "stream",
     "text": [
      "1\n"
     ]
    }
   ],
   "source": [
    "def count_matched_repos(repo_name):\n",
    "    repos = []\n",
    "    for item in py_data['items']:\n",
    "        if(item['name'] == repo_name):\n",
    "            repos.append(item)\n",
    "        return(repos)\n",
    "print(len(count_matched_repos('webplatform-qa')))\n",
    "        "
   ]
  },
  {
   "cell_type": "code",
   "execution_count": 5,
   "metadata": {},
   "outputs": [
    {
     "data": {
      "text/plain": [
       "False"
      ]
     },
     "execution_count": 5,
     "metadata": {},
     "output_type": "execute_result"
    }
   ],
   "source": [
    "def is_repo_exists(repo_name):\n",
    "    repos = []\n",
    "    for item in py_data['items']:\n",
    "        if(item['name'] == repo_name):\n",
    "            return True\n",
    "        else:\n",
    "            return False\n",
    "is_repo_exists('webplatform')"
   ]
  },
  {
   "cell_type": "code",
   "execution_count": 12,
   "metadata": {},
   "outputs": [
    {
     "name": "stdout",
     "output_type": "stream",
     "text": [
      "Update repo version\n"
     ]
    }
   ],
   "source": [
    "def update_repo(repo_id, repo_name=None, repo_group=None, repo_version=None, repo_format=None):\n",
    "    for item in py_data['items']:\n",
    "        if(item['id'] == repo_id):\n",
    "            if repo_name:\n",
    "                item['name'] == repo_name\n",
    "                print('Updated repo name')\n",
    "            if repo_group:\n",
    "                item['group'] == repo_group\n",
    "                print('Updated repo group')\n",
    "            if repo_version:\n",
    "                item['version'] == repo_version\n",
    "                print('Update repo version')\n",
    "            if repo_format:\n",
    "                item['format'] == repo_format\n",
    "                print('Updated repo format')\n",
    "            return\n",
    "        print('Repo not found')\n",
    "update_repo('d2VicGxhdGZvcm06Yzc3MDE2OWMwYjJlM2VkODUzYTc3Mjk4Y2UzYTgyNzU', None, None, '1.0')"
   ]
  },
  {
   "cell_type": "code",
   "execution_count": null,
   "metadata": {},
   "outputs": [],
   "source": []
  }
 ],
 "metadata": {
  "kernelspec": {
   "display_name": "Python 3",
   "language": "python",
   "name": "python3"
  },
  "language_info": {
   "codemirror_mode": {
    "name": "ipython",
    "version": 3
   },
   "file_extension": ".py",
   "mimetype": "text/x-python",
   "name": "python",
   "nbconvert_exporter": "python",
   "pygments_lexer": "ipython3",
   "version": "3.6.5"
  }
 },
 "nbformat": 4,
 "nbformat_minor": 2
}
