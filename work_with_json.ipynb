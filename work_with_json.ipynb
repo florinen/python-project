{
 "cells": [
  {
   "cell_type": "code",
   "execution_count": 4,
   "metadata": {},
   "outputs": [],
   "source": [
    "import json\n",
    "with open('data.json') as data_json:\n",
    "    data = json.load(data_json)\n",
    "#print(data['items'][0]['group'])\n",
    "def print_my_data(integer):\n",
    "    print(data['items'][integer])\n",
    "    \n",
    "#print_my_data(2)\n",
    "def find_repo():\n",
    "    reponame = input('What is the reponame? :')\n",
    "    for repo in data['items']:\n",
    "        if reponame == repo['name']:\n",
    "            print(repo['name'])\n",
    "\n",
    "#find_repo()    \n",
    "\n",
    "def does_repo_exist(repo_name):\n",
    "    for repo in data['items']:\n",
    "        if repo_name == repo['name']:\n",
    "            print(repo)\n",
    "            break\n",
    "        else:\n",
    "            print('Cant find repo')"
   ]
  },
  {
   "cell_type": "code",
   "execution_count": 8,
   "metadata": {},
   "outputs": [],
   "source": [
    "#does_repo_exist()"
   ]
  },
  {
   "cell_type": "code",
   "execution_count": 1,
   "metadata": {},
   "outputs": [],
   "source": [
    "my_user_list = []\n",
    "for user_num in range(1, 11):\n",
    "    my_user_list.append({\"username\": f'user-{user_num}', \n",
    "                         \"password\": None,  \n",
    "                         \"status\": False})"
   ]
  },
  {
   "cell_type": "code",
   "execution_count": 2,
   "metadata": {},
   "outputs": [
    {
     "name": "stdout",
     "output_type": "stream",
     "text": [
      "[{'username': 'user-1', 'password': None, 'status': False}, {'username': 'user-2', 'password': None, 'status': False}, {'username': 'user-3', 'password': None, 'status': False}, {'username': 'user-4', 'password': None, 'status': False}, {'username': 'user-5', 'password': None, 'status': False}, {'username': 'user-6', 'password': None, 'status': False}, {'username': 'user-7', 'password': None, 'status': False}, {'username': 'user-8', 'password': None, 'status': False}, {'username': 'user-9', 'password': None, 'status': False}, {'username': 'user-10', 'password': None, 'status': False}]\n"
     ]
    }
   ],
   "source": [
    "print(my_user_list)"
   ]
  },
  {
   "cell_type": "code",
   "execution_count": 7,
   "metadata": {},
   "outputs": [
    {
     "name": "stdout",
     "output_type": "stream",
     "text": [
      "[\n",
      "  {\n",
      "    \"username\": \"user-1\",\n",
      "    \"password\": null,\n",
      "    \"status\": false\n",
      "  },\n",
      "  {\n",
      "    \"username\": \"user-2\",\n",
      "    \"password\": null,\n",
      "    \"status\": false\n",
      "  },\n",
      "  {\n",
      "    \"username\": \"user-3\",\n",
      "    \"password\": null,\n",
      "    \"status\": false\n",
      "  },\n",
      "  {\n",
      "    \"username\": \"user-4\",\n",
      "    \"password\": null,\n",
      "    \"status\": false\n",
      "  },\n",
      "  {\n",
      "    \"username\": \"user-5\",\n",
      "    \"password\": null,\n",
      "    \"status\": false\n",
      "  },\n",
      "  {\n",
      "    \"username\": \"user-6\",\n",
      "    \"password\": null,\n",
      "    \"status\": false\n",
      "  },\n",
      "  {\n",
      "    \"username\": \"user-7\",\n",
      "    \"password\": null,\n",
      "    \"status\": false\n",
      "  },\n",
      "  {\n",
      "    \"username\": \"user-8\",\n",
      "    \"password\": null,\n",
      "    \"status\": false\n",
      "  },\n",
      "  {\n",
      "    \"username\": \"user-9\",\n",
      "    \"password\": null,\n",
      "    \"status\": false\n",
      "  },\n",
      "  {\n",
      "    \"username\": \"user-10\",\n",
      "    \"password\": null,\n",
      "    \"status\": false\n",
      "  }\n",
      "]\n"
     ]
    }
   ],
   "source": [
    "print(json.dumps(my_user_list, indent=2))"
   ]
  },
  {
   "cell_type": "code",
   "execution_count": 9,
   "metadata": {},
   "outputs": [],
   "source": [
    "with open('user_list.json', 'w') as my_file:\n",
    "    json.dump(my_user_list, my_file, indent=2)"
   ]
  },
  {
   "cell_type": "code",
   "execution_count": null,
   "metadata": {},
   "outputs": [],
   "source": []
  }
 ],
 "metadata": {
  "kernelspec": {
   "display_name": "Python 3",
   "language": "python",
   "name": "python3"
  },
  "language_info": {
   "codemirror_mode": {
    "name": "ipython",
    "version": 3
   },
   "file_extension": ".py",
   "mimetype": "text/x-python",
   "name": "python",
   "nbconvert_exporter": "python",
   "pygments_lexer": "ipython3",
   "version": "3.6.5"
  }
 },
 "nbformat": 4,
 "nbformat_minor": 2
}
