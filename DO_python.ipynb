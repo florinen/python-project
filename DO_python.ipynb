{
 "cells": [
  {
   "cell_type": "code",
   "execution_count": null,
   "metadata": {},
   "outputs": [],
   "source": [
    "%set_env DIGITAL_TOKEN=# your token to be imported here"
   ]
  },
  {
   "cell_type": "code",
   "execution_count": null,
   "metadata": {},
   "outputs": [],
   "source": [
    "import os, requests\n",
    "token = os.environ.get('DIGITAL_TOKEN')\n",
    "auth = {\n",
    "        \"Authorization\" : \"Bearer {}\".format(os.environ.get('DIGITAL_TOKEN')),\n",
    "        \"Content-Type\" : \"application/json\"\n",
    "    }\n",
    "#print(token)\n",
    " \n",
    "def get_list_droplets():\n",
    "    url = 'https://api.digitalocean.com/v2/droplets'\n",
    "    response = requests.get(url=url, headers=auth)\n",
    "    if response.status_code == 200:\n",
    "        for item in response.json()['droplets']:\n",
    "            print(item['name'])\n",
    "    else:\n",
    "        print(f'API returned {response.status_code}')\n",
    "#get_list_droplets()\n",
    "\n",
    "def create_droplet(name, image):\n",
    "    url = 'https://api.digitalocean.com/v2/droplets'\n",
    "    droplet = {\n",
    "         'name': name, \n",
    "         'region': 'nyc3', \n",
    "         'size': 's-1vcpu-1gb', \n",
    "         'image': image, \n",
    "#         'ssh_keys': [107149], \n",
    "         'backups': False, \n",
    "         'ipv6': True, \n",
    "         'user_data': None, \n",
    "         'private_networking': None, \n",
    "         'volumes': None, \n",
    "         'tags': ['web']\n",
    "    }\n",
    "    response = requests.post(url=url, headers=auth, json=droplet)\n",
    "    if response.status_code == 200 or response.status_code == 202:\n",
    "        print('Droplet is being created !!')\n",
    "    else:\n",
    "        print(f'API returned {response.status_code}')\n",
    "\n",
    "droplet_list = ['mysql', 'httpd-server', 'docker']\n",
    "for droplet in droplet_list:\n",
    "        create_droplet(droplet, 'ubuntu-16-04-x64') "
   ]
  },
  {
   "cell_type": "code",
   "execution_count": null,
   "metadata": {},
   "outputs": [],
   "source": [
    "get_list_droplets()"
   ]
  },
  {
   "cell_type": "code",
   "execution_count": null,
   "metadata": {},
   "outputs": [],
   "source": [
    "import json\n",
    "print(json.loads('{\"name\":\"example.com\",\"region\":\"nyc3\",\"size\":\"s-1vcpu-1gb\",\"image\":\"ubuntu-16-04-x64\",\"ssh_keys\":[107149],\"backups\":false,\"ipv6\":true,\"user_data\":null,\"private_networking\":null,\"volumes\": null,\"tags\":[\"web\"]}'))"
   ]
  },
  {
   "cell_type": "code",
   "execution_count": null,
   "metadata": {},
   "outputs": [],
   "source": [
    "def delete_droplets():\n",
    "    url = 'https://api.digitalocean.com/v2/droplets'\n",
    "    response = requests.get(url=url, headers=auth)\n",
    "    if response.status_code == 200:\n",
    "        for item in response.json()['droplets']:\n",
    "            test = requests.delete(url='{}/{}'.format(url,item['id']), headers=auth )\n",
    "            if(test.status_code == 204):\n",
    "                print('Droplet ' + item['name'] + ' was successfully deleted')\n",
    "\n",
    "delete_droplets()"
   ]
  },
  {
   "cell_type": "code",
   "execution_count": null,
   "metadata": {},
   "outputs": [],
   "source": []
  }
 ],
 "metadata": {
  "kernelspec": {
   "display_name": "Python 3",
   "language": "python",
   "name": "python3"
  },
  "language_info": {
   "codemirror_mode": {
    "name": "ipython",
    "version": 3
   },
   "file_extension": ".py",
   "mimetype": "text/x-python",
   "name": "python",
   "nbconvert_exporter": "python",
   "pygments_lexer": "ipython3",
   "version": "3.6.5"
  }
 },
 "nbformat": 4,
 "nbformat_minor": 2
}
