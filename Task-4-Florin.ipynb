{
 "cells": [
  {
   "cell_type": "code",
   "execution_count": null,
   "metadata": {},
   "outputs": [],
   "source": [
    "import json\n",
    "with open('data.json') as data_json:\n",
    "    data = json.load(data_json)\n"
   ]
  },
  {
   "cell_type": "code",
   "execution_count": null,
   "metadata": {},
   "outputs": [],
   "source": [
    "def data_list():\n",
    "    for item in data['items']:\n",
    "        print('Format: ' + item['format'])\n",
    "        print('Version: ' + item['version'])\n",
    "        print('Name: ' + item['name'])\n",
    "        print('Repository' + item['repository'] + '\\n')\n",
    "#data_list()"
   ]
  },
  {
   "cell_type": "code",
   "execution_count": null,
   "metadata": {},
   "outputs": [],
   "source": [
    "def findRepository(environment):\n",
    "    foundRepo = []\n",
    "    for item in data['items']:\n",
    "        if(item['name'].split('-')[1] == environment):\n",
    "            foundRepo.append(item)\n",
    "    return(foundRepo)\n",
    "\n",
    "repos = findRepository('qa')\n",
    "for repo in repos:\n",
    "    print(repo['name'])\n",
    "    break\n"
   ]
  },
  {
   "cell_type": "code",
   "execution_count": null,
   "metadata": {},
   "outputs": [],
   "source": [
    "def checkVersions():\n",
    "    yesAnswer = ['YES', 'Yes', 'y', 'Y', 'YeS', 'yes']\n",
    "    while True:\n",
    "        version = input('What version are you looking for? :')\n",
    "        for item in data['items']:\n",
    "            if(item['version'] == version):\n",
    "                print('version exist')\n",
    "                break\n",
    "        else:\n",
    "            print('version does not exist')\n",
    "        answer = input('Do you want to continue ? yes/no :')\n",
    "        if answer in yesAnswer:\n",
    "            print('Next Version')\n",
    "            \n",
    "        else:\n",
    "            print('Bye!!! ')\n",
    "            break\n",
    "                \n",
    "                \n",
    "   "
   ]
  },
  {
   "cell_type": "code",
   "execution_count": null,
   "metadata": {},
   "outputs": [],
   "source": [
    "checkVersions()"
   ]
  },
  {
   "cell_type": "code",
   "execution_count": null,
   "metadata": {},
   "outputs": [],
   "source": []
  }
 ],
 "metadata": {
  "kernelspec": {
   "display_name": "Python 3",
   "language": "python",
   "name": "python3"
  },
  "language_info": {
   "codemirror_mode": {
    "name": "ipython",
    "version": 3
   },
   "file_extension": ".py",
   "mimetype": "text/x-python",
   "name": "python",
   "nbconvert_exporter": "python",
   "pygments_lexer": "ipython3",
   "version": "3.6.5"
  }
 },
 "nbformat": 4,
 "nbformat_minor": 2
}
