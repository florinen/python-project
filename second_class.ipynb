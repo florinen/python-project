{
 "cells": [
  {
   "cell_type": "code",
   "execution_count": 4,
   "metadata": {},
   "outputs": [
    {
     "data": {
      "text/plain": [
       "bool"
      ]
     },
     "execution_count": 4,
     "metadata": {},
     "output_type": "execute_result"
    }
   ],
   "source": [
    "#boolen\n",
    "var = True\n",
    "mystring = 'example'\n",
    "\n",
    "type(var)\n",
    "\n",
    "#mystring is 'example'\n",
    "#var is True"
   ]
  },
  {
   "cell_type": "code",
   "execution_count": 12,
   "metadata": {},
   "outputs": [
    {
     "name": "stdout",
     "output_type": "stream",
     "text": [
      "3\n"
     ]
    }
   ],
   "source": [
    "#integers\n",
    "mynum = 2000\n",
    "now = 2019\n",
    "myage = now - mynum\n",
    "myfloat = 1.4\n",
    "data = range(1, 10)\n",
    "print(data[2])\n",
    "#type(myfloat)\n",
    "#print(myage)\n",
    "#print(mynum)\n",
    "#type(mynum)\n"
   ]
  },
  {
   "cell_type": "code",
   "execution_count": 47,
   "metadata": {},
   "outputs": [
    {
     "name": "stdout",
     "output_type": "stream",
     "text": [
      "['John', 'user', True, 'Anna']\n"
     ]
    }
   ],
   "source": [
    "mylist = []\n",
    "\n",
    "users = ['Dan']\n",
    "users.append('John')\n",
    "users.append(True)\n",
    "users.append('Anna')\n",
    "#users.remove(True)\n",
    "#users.pop(2)  #shows the last imput in the list, use index for specific string\n",
    "#print(users.index('Anna '))\n",
    "foundIndex = users.index('Dan')  #find user Dan in the list\n",
    "users.pop(foundIndex) #remove Dan from the list\n",
    "users.insert(1, 'user')  #inserts a \"user\" after user John\n",
    "print(users)\n",
    "#print(users)\n",
    "#print(users.clear()) #removes everything in the list\n",
    "#print(users.count('Dan'))  #counts how many users Dan we have in the list\n",
    " \n",
    "#(dir(mylist)\n",
    "#print(mylist)\n",
    "#type(mylist)"
   ]
  },
  {
   "cell_type": "code",
   "execution_count": null,
   "metadata": {},
   "outputs": [],
   "source": []
  },
  {
   "cell_type": "code",
   "execution_count": 63,
   "metadata": {},
   "outputs": [
    {
     "name": "stdout",
     "output_type": "stream",
     "text": [
      "{'username': 'jsmith', 'firstname': 'John', 'lastname': 'Smith'}\n"
     ]
    }
   ],
   "source": [
    "mydict = {'type' : 'Fruit', 'color' : 'Orange' }\n",
    "mydict['count'] = 1      # append \n",
    "\n",
    "\n",
    "#my_second_dict = dict(mydata = 'Example')\n",
    "#mylist = ['data1', 'data2', 'data3']\n",
    "#mylist = list(['data1', 'data2', 'data3'])\n",
    "#print(mylist)\n",
    "user = dict(username= 'jsmith', firstname= 'John', lastname= 'Smith')\n",
    "print(user)\n",
    "\n",
    "#print(mydict.keys())     #this will print only the keys\n",
    "#mydict['color'] = 'Red'  #this will change the value of color\n",
    "#print(mydict['color'])   #will print only the value of color\n",
    "#print(mydict)            #print keys and coresponding values\n",
    "#mylist = mydict.values() #print only the values of the keys\n",
    "#print(mylist)"
   ]
  },
  {
   "cell_type": "code",
   "execution_count": null,
   "metadata": {},
   "outputs": [],
   "source": []
  }
 ],
 "metadata": {
  "kernelspec": {
   "display_name": "Python 3",
   "language": "python",
   "name": "python3"
  },
  "language_info": {
   "codemirror_mode": {
    "name": "ipython",
    "version": 3
   },
   "file_extension": ".py",
   "mimetype": "text/x-python",
   "name": "python",
   "nbconvert_exporter": "python",
   "pygments_lexer": "ipython3",
   "version": "3.6.5"
  }
 },
 "nbformat": 4,
 "nbformat_minor": 2
}
